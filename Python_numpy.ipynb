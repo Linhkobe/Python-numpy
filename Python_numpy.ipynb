{
 "cells": [
  {
   "cell_type": "code",
   "execution_count": 2,
   "metadata": {},
   "outputs": [],
   "source": [
    "import numpy as np"
   ]
  },
  {
   "cell_type": "code",
   "execution_count": 2,
   "metadata": {},
   "outputs": [
    {
     "name": "stdout",
     "output_type": "stream",
     "text": [
      "[1 2 3]\n"
     ]
    }
   ],
   "source": [
    "# Create an array:\n",
    "#a = np.array([1,2,3], dtype='int16')\n",
    "a = np.array([1,2,3])\n",
    "print(a)"
   ]
  },
  {
   "cell_type": "code",
   "execution_count": 4,
   "metadata": {},
   "outputs": [
    {
     "name": "stdout",
     "output_type": "stream",
     "text": [
      "[[1 2 3]\n",
      " [4 5 6]]\n"
     ]
    }
   ],
   "source": [
    "# 2 dimensional array: 2 rows and 3 columns:\n",
    "b = np.array([[1,2,3],[4,5,6]])\n",
    "print(b)"
   ]
  },
  {
   "cell_type": "code",
   "execution_count": 5,
   "metadata": {},
   "outputs": [
    {
     "data": {
      "text/plain": [
       "1"
      ]
     },
     "execution_count": 5,
     "metadata": {},
     "output_type": "execute_result"
    }
   ],
   "source": [
    "# Get dimension of numpy array:\n",
    "# Just 1 row and 1 column \n",
    "a.ndim"
   ]
  },
  {
   "cell_type": "code",
   "execution_count": 6,
   "metadata": {},
   "outputs": [
    {
     "data": {
      "text/plain": [
       "2"
      ]
     },
     "execution_count": 6,
     "metadata": {},
     "output_type": "execute_result"
    }
   ],
   "source": [
    "# Get dimension of numpy array:\n",
    "# 2 dimensions: 2 rows and 3 columns\n",
    "b.ndim"
   ]
  },
  {
   "cell_type": "code",
   "execution_count": 7,
   "metadata": {},
   "outputs": [
    {
     "data": {
      "text/plain": [
       "dtype('int64')"
      ]
     },
     "execution_count": 7,
     "metadata": {},
     "output_type": "execute_result"
    }
   ],
   "source": [
    "# Check how many memory that an numpy array take up:\n",
    "a.dtype"
   ]
  },
  {
   "cell_type": "code",
   "execution_count": null,
   "metadata": {},
   "outputs": [],
   "source": []
  },
  {
   "cell_type": "code",
   "execution_count": null,
   "metadata": {},
   "outputs": [],
   "source": [
    "# Selecting element in a matrix:"
   ]
  },
  {
   "cell_type": "code",
   "execution_count": 3,
   "metadata": {},
   "outputs": [
    {
     "name": "stdout",
     "output_type": "stream",
     "text": [
      "Vector row:\n",
      " [1 2 3 4 5 6]\n"
     ]
    }
   ],
   "source": [
    "# Create a vector as a row:\n",
    "vector_row = np.array([1,2,3,4,5,6])\n",
    "print('Vector row:\\n', vector_row)"
   ]
  },
  {
   "cell_type": "code",
   "execution_count": 5,
   "metadata": {},
   "outputs": [
    {
     "name": "stdout",
     "output_type": "stream",
     "text": [
      "Matrix:\n",
      " [[1 2 3]\n",
      " [4 5 6]\n",
      " [7 8 9]]\n"
     ]
    }
   ],
   "source": [
    "# Create a matrix:\n",
    "matrix = np.array([[1,2,3],[4,5,6],[7,8,9]])\n",
    "print('Matrix:\\n',matrix)"
   ]
  },
  {
   "cell_type": "code",
   "execution_count": 6,
   "metadata": {},
   "outputs": [
    {
     "name": "stdout",
     "output_type": "stream",
     "text": [
      "1st element of the row vector is 1\n"
     ]
    }
   ],
   "source": [
    "# Select 1st element of row vector:\n",
    "print('1st element of the row vector is',vector_row[0])"
   ]
  },
  {
   "cell_type": "code",
   "execution_count": 7,
   "metadata": {},
   "outputs": [
    {
     "name": "stdout",
     "output_type": "stream",
     "text": [
      "2nd element of the row vector is 2\n"
     ]
    }
   ],
   "source": [
    "# Select 2nd element of row vector:\n",
    "print('2nd element of the row vector is',vector_row[1])"
   ]
  },
  {
   "cell_type": "code",
   "execution_count": 8,
   "metadata": {},
   "outputs": [
    {
     "name": "stdout",
     "output_type": "stream",
     "text": [
      "3rd element of row vector is 3\n"
     ]
    }
   ],
   "source": [
    "# Select the 3rd element of row vector:\n",
    "print('3rd element of row vector is',vector_row[2])"
   ]
  },
  {
   "cell_type": "code",
   "execution_count": 14,
   "metadata": {},
   "outputs": [
    {
     "name": "stdout",
     "output_type": "stream",
     "text": [
      "All element of the row vector:\n",
      " [1 2 3 4 5 6]\n"
     ]
    }
   ],
   "source": [
    "# Select all element of a vector:\n",
    "print('All element of the row vector:\\n',vector_row[:])"
   ]
  },
  {
   "cell_type": "code",
   "execution_count": 15,
   "metadata": {},
   "outputs": [
    {
     "name": "stdout",
     "output_type": "stream",
     "text": [
      "The first 3 elements of the vector are:\n",
      " [1 2 3]\n"
     ]
    }
   ],
   "source": [
    "# Select first 3 elements of a vector:\n",
    "print('The first 3 elements of the vector are:\\n',vector_row[:3])"
   ]
  },
  {
   "cell_type": "code",
   "execution_count": 16,
   "metadata": {},
   "outputs": [
    {
     "name": "stdout",
     "output_type": "stream",
     "text": [
      "The last element of the vector is:\n",
      " 6\n"
     ]
    }
   ],
   "source": [
    "# Select last element of a vector:\n",
    "print('The last element of the vector is:\\n',vector_row[-1])"
   ]
  },
  {
   "cell_type": "code",
   "execution_count": 18,
   "metadata": {},
   "outputs": [
    {
     "name": "stdout",
     "output_type": "stream",
     "text": [
      "The last 3 element of the vector are:\n",
      " [4 5 6]\n"
     ]
    }
   ],
   "source": [
    "# Select everything after 2nd element:\n",
    "print('The last 3 element of the vector are:\\n',vector_row[3:])"
   ]
  },
  {
   "cell_type": "code",
   "execution_count": null,
   "metadata": {},
   "outputs": [],
   "source": [
    "Operation with matrix"
   ]
  },
  {
   "cell_type": "code",
   "execution_count": 10,
   "metadata": {},
   "outputs": [
    {
     "name": "stdout",
     "output_type": "stream",
     "text": [
      "1st row and 1st column of the matrix is: 1\n"
     ]
    }
   ],
   "source": [
    "# Select 1st row and 1st column of a matrix:\n",
    "print('1st row and 1st column of the matrix is:',matrix[0,0])"
   ]
  },
  {
   "cell_type": "code",
   "execution_count": 11,
   "metadata": {},
   "outputs": [
    {
     "name": "stdout",
     "output_type": "stream",
     "text": [
      "2nd row and 2nd column of the matrix is: 5\n"
     ]
    }
   ],
   "source": [
    "# Select 2nd row and 2nd column of a matrix:\n",
    "print('2nd row and 2nd column of the matrix is:',matrix[1,1])"
   ]
  },
  {
   "cell_type": "code",
   "execution_count": 12,
   "metadata": {},
   "outputs": [
    {
     "name": "stdout",
     "output_type": "stream",
     "text": [
      "3rd row and 3rd column of the matrix is: 9\n"
     ]
    }
   ],
   "source": [
    "# Select 3rd row and 3rd column of a matrix:\n",
    "print('3rd row and 3rd column of the matrix is:',matrix[2,2])"
   ]
  },
  {
   "cell_type": "code",
   "execution_count": 13,
   "metadata": {},
   "outputs": [
    {
     "name": "stdout",
     "output_type": "stream",
     "text": [
      "1st row and 2nd column of the matrix is: 2\n"
     ]
    }
   ],
   "source": [
    "# Select 1st row and 2nd column of a matrix:\n",
    "print('1st row and 2nd column of the matrix is:',matrix[0,1])"
   ]
  },
  {
   "cell_type": "code",
   "execution_count": 19,
   "metadata": {},
   "outputs": [
    {
     "name": "stdout",
     "output_type": "stream",
     "text": [
      "All element of the matrix:\n",
      " [[1 2 3]\n",
      " [4 5 6]\n",
      " [7 8 9]]\n"
     ]
    }
   ],
   "source": [
    "# Select all element of a matrix:\n",
    "print('All element of the matrix:\\n',matrix[:,:])"
   ]
  },
  {
   "cell_type": "code",
   "execution_count": 23,
   "metadata": {},
   "outputs": [
    {
     "name": "stdout",
     "output_type": "stream",
     "text": [
      "All column and 2nd row of the matrix:\n",
      " [[1 2 3]\n",
      " [4 5 6]]\n"
     ]
    }
   ],
   "source": [
    "# Select all column and first 2 rows of a matrix:\n",
    "print('All column and 2nd row of the matrix:\\n',matrix[:2,:])"
   ]
  },
  {
   "cell_type": "code",
   "execution_count": 26,
   "metadata": {},
   "outputs": [
    {
     "name": "stdout",
     "output_type": "stream",
     "text": [
      "2nd column of the matrix:\n",
      " [2 5 8]\n"
     ]
    }
   ],
   "source": [
    "# Select 2nd column of a matrix:\n",
    "print('2nd column of the matrix:\\n',matrix[:,1])"
   ]
  },
  {
   "cell_type": "code",
   "execution_count": 29,
   "metadata": {},
   "outputs": [
    {
     "name": "stdout",
     "output_type": "stream",
     "text": [
      "1st way to show the last column of the matrix:\n",
      " [3 6 9]\n",
      "2nd way to show the last column of the matrix:\n",
      " [3 6 9]\n"
     ]
    }
   ],
   "source": [
    "# Select last column:\n",
    "print('1st way to show the last column of the matrix:\\n',matrix[:,-1])\n",
    "print('2nd way to show the last column of the matrix:\\n',matrix[:,2])"
   ]
  },
  {
   "cell_type": "code",
   "execution_count": null,
   "metadata": {},
   "outputs": [],
   "source": []
  },
  {
   "cell_type": "code",
   "execution_count": null,
   "metadata": {},
   "outputs": [],
   "source": [
    "Describing a matrix:"
   ]
  },
  {
   "cell_type": "code",
   "execution_count": 3,
   "metadata": {},
   "outputs": [
    {
     "name": "stdout",
     "output_type": "stream",
     "text": [
      "[[1 2 3]\n",
      " [3 4 5]\n",
      " [5 6 8]]\n"
     ]
    }
   ],
   "source": [
    "# Create a matrix:\n",
    "matrix_1 = np.array([[1,2,3],[3,4,5],[5,6,8]])\n",
    "print(matrix_1)"
   ]
  },
  {
   "cell_type": "code",
   "execution_count": 32,
   "metadata": {},
   "outputs": [
    {
     "name": "stdout",
     "output_type": "stream",
     "text": [
      "number of row and column of the matrix:\n",
      " (3, 3)\n"
     ]
    }
   ],
   "source": [
    "# Numebr of row and column: .shape function\n",
    "# This matrix has 3 rows and 3 columns\n",
    "print('number of row and column of the matrix:\\n',matrix_1.shape)"
   ]
  },
  {
   "cell_type": "code",
   "execution_count": 34,
   "metadata": {},
   "outputs": [
    {
     "name": "stdout",
     "output_type": "stream",
     "text": [
      "Size of the matrix: 9\n"
     ]
    }
   ],
   "source": [
    "# Number of element in a matrix(size - row*column): .size function\n",
    "print('Size of the matrix:',matrix_1.size)"
   ]
  },
  {
   "cell_type": "code",
   "execution_count": 35,
   "metadata": {},
   "outputs": [
    {
     "name": "stdout",
     "output_type": "stream",
     "text": [
      "Number of dimension of the matrix:\n",
      " 2\n"
     ]
    }
   ],
   "source": [
    "# Number of dimension: .ndim function\n",
    "print('Number of dimension of the matrix:\\n',matrix_1.ndim)"
   ]
  },
  {
   "cell_type": "code",
   "execution_count": 36,
   "metadata": {},
   "outputs": [],
   "source": [
    "# Create a function that adds 100 to something:\n",
    "add_100 = lambda i: i+100"
   ]
  },
  {
   "cell_type": "code",
   "execution_count": 37,
   "metadata": {},
   "outputs": [],
   "source": [
    "# Convert it into a vectorized function:\n",
    "vectorized_add_100 = np.vectorize(add_100)"
   ]
  },
  {
   "cell_type": "code",
   "execution_count": 38,
   "metadata": {},
   "outputs": [
    {
     "name": "stdout",
     "output_type": "stream",
     "text": [
      "Add 100 to all element of the matrix:\n",
      " [[101 102 103]\n",
      " [103 104 105]\n",
      " [105 106 108]]\n"
     ]
    }
   ],
   "source": [
    "# Apply function add_100 to a matrix:\n",
    "print('Add 100 to all element of the matrix:\\n',vectorized_add_100(matrix_1))"
   ]
  },
  {
   "cell_type": "code",
   "execution_count": 39,
   "metadata": {},
   "outputs": [],
   "source": [
    "# Create a function to multiply by 2:\n",
    "multi_2 = lambda i: i*2"
   ]
  },
  {
   "cell_type": "code",
   "execution_count": 40,
   "metadata": {},
   "outputs": [],
   "source": [
    "# Convert:\n",
    "vectorized_multi_2 = np.vectorize(multi_2)"
   ]
  },
  {
   "cell_type": "code",
   "execution_count": 41,
   "metadata": {},
   "outputs": [
    {
     "name": "stdout",
     "output_type": "stream",
     "text": [
      "New matrix:\n",
      " [[ 2  4  6]\n",
      " [ 6  8 10]\n",
      " [10 12 16]]\n"
     ]
    }
   ],
   "source": [
    "# New matrix:\n",
    "print('New matrix:\\n',vectorized_multi_2(matrix_1))"
   ]
  },
  {
   "cell_type": "code",
   "execution_count": 43,
   "metadata": {},
   "outputs": [],
   "source": [
    "# Find max and min value in a matrix:"
   ]
  },
  {
   "cell_type": "code",
   "execution_count": 44,
   "metadata": {},
   "outputs": [
    {
     "name": "stdout",
     "output_type": "stream",
     "text": [
      "maximum value of the matrix is: 8\n"
     ]
    }
   ],
   "source": [
    "# Max:\n",
    "print('maximum value of the matrix is:',matrix_1.max())"
   ]
  },
  {
   "cell_type": "code",
   "execution_count": 45,
   "metadata": {},
   "outputs": [
    {
     "name": "stdout",
     "output_type": "stream",
     "text": [
      "minimum value of the matrix is: 1\n"
     ]
    }
   ],
   "source": [
    "# Min:\n",
    "print('minimum value of the matrix is:',matrix_1.min())"
   ]
  },
  {
   "cell_type": "code",
   "execution_count": null,
   "metadata": {},
   "outputs": [],
   "source": [
    "# Min in each column:\n",
    "print('Min in each column of the matrix')"
   ]
  },
  {
   "cell_type": "code",
   "execution_count": null,
   "metadata": {},
   "outputs": [],
   "source": [
    "# Calculate average, variance, standard deviation"
   ]
  },
  {
   "cell_type": "code",
   "execution_count": null,
   "metadata": {},
   "outputs": [],
   "source": [
    "# Mean: .mean() function"
   ]
  },
  {
   "cell_type": "code",
   "execution_count": 4,
   "metadata": {},
   "outputs": [
    {
     "name": "stdout",
     "output_type": "stream",
     "text": [
      "Mean:\n",
      " 4.111111111111111\n"
     ]
    }
   ],
   "source": [
    "print('Mean:\\n',matrix_1.mean())"
   ]
  },
  {
   "cell_type": "code",
   "execution_count": null,
   "metadata": {},
   "outputs": [],
   "source": [
    "# Standard deviation: .std() function"
   ]
  },
  {
   "cell_type": "code",
   "execution_count": 5,
   "metadata": {},
   "outputs": [
    {
     "name": "stdout",
     "output_type": "stream",
     "text": [
      "Standard deviation:\n",
      " 2.0245407953653998\n"
     ]
    }
   ],
   "source": [
    "print('Standard deviation:\\n',matrix_1.std())"
   ]
  },
  {
   "cell_type": "code",
   "execution_count": null,
   "metadata": {},
   "outputs": [],
   "source": [
    "# Variance: "
   ]
  },
  {
   "cell_type": "code",
   "execution_count": 6,
   "metadata": {},
   "outputs": [
    {
     "name": "stdout",
     "output_type": "stream",
     "text": [
      "Variance:\n",
      " 4.098765432098765\n"
     ]
    }
   ],
   "source": [
    "print('Variance:\\n',matrix_1.var())"
   ]
  },
  {
   "cell_type": "code",
   "execution_count": null,
   "metadata": {},
   "outputs": [],
   "source": [
    "# Reshaping arrays:"
   ]
  },
  {
   "cell_type": "code",
   "execution_count": 8,
   "metadata": {},
   "outputs": [
    {
     "name": "stdout",
     "output_type": "stream",
     "text": [
      "New matrix_1:\n",
      " [[1]\n",
      " [2]\n",
      " [3]\n",
      " [3]\n",
      " [4]\n",
      " [5]\n",
      " [5]\n",
      " [6]\n",
      " [8]]\n"
     ]
    }
   ],
   "source": [
    "# Reshape: .reshape()\n",
    "print('New matrix_1:\\n',matrix_1.reshape(9,1))"
   ]
  },
  {
   "cell_type": "code",
   "execution_count": 10,
   "metadata": {},
   "outputs": [
    {
     "name": "stdout",
     "output_type": "stream",
     "text": [
      "New matrix_1\n",
      " [1 2 3 3 4 5 5 6 8]\n"
     ]
    }
   ],
   "source": [
    "print('New matrix_1\\n',matrix_1.reshape(9))"
   ]
  },
  {
   "cell_type": "code",
   "execution_count": 20,
   "metadata": {},
   "outputs": [
    {
     "name": "stdout",
     "output_type": "stream",
     "text": [
      "New_matrix_1\n",
      " [1 2 3 3 4 5 5 6 8]\n"
     ]
    }
   ],
   "source": [
    "print('New_matrix_1\\n',matrix_1.flatten())"
   ]
  },
  {
   "cell_type": "code",
   "execution_count": 13,
   "metadata": {},
   "outputs": [
    {
     "name": "stdout",
     "output_type": "stream",
     "text": [
      "Transposed matrix:\n",
      " [[1 3 5]\n",
      " [2 4 6]\n",
      " [3 5 8]]\n"
     ]
    }
   ],
   "source": [
    "# Transposing a matrix: .T\n",
    "print('Transposed matrix:\\n',matrix_1.T)"
   ]
  },
  {
   "cell_type": "code",
   "execution_count": 15,
   "metadata": {},
   "outputs": [
    {
     "name": "stdout",
     "output_type": "stream",
     "text": [
      "Deterimant:\n",
      " -1.999999999999999\n"
     ]
    }
   ],
   "source": [
    "# Find determant and Rank of a matrix:\n",
    "print('Deterimant:\\n',np.linalg.det(matrix_1))"
   ]
  },
  {
   "cell_type": "code",
   "execution_count": 16,
   "metadata": {},
   "outputs": [
    {
     "name": "stdout",
     "output_type": "stream",
     "text": [
      "Rank:\n",
      " 3\n"
     ]
    }
   ],
   "source": [
    "# Calculate the rank:\n",
    "print('Rank:\\n',np.linalg.matrix_rank(matrix_1))"
   ]
  },
  {
   "cell_type": "code",
   "execution_count": 17,
   "metadata": {},
   "outputs": [
    {
     "name": "stdout",
     "output_type": "stream",
     "text": [
      "Principal diagonal: [1 4 8]\n"
     ]
    }
   ],
   "source": [
    "# Diagonal of a matrix:\n",
    "print('Principal diagonal:',matrix_1.diagonal())"
   ]
  },
  {
   "cell_type": "code",
   "execution_count": 19,
   "metadata": {},
   "outputs": [
    {
     "name": "stdout",
     "output_type": "stream",
     "text": [
      "One above:\n",
      " [2 5]\n"
     ]
    }
   ],
   "source": [
    "# Diagonal one above the principal diagonal:\n",
    "print('One above:\\n',matrix_1.diagonal(offset=1))"
   ]
  },
  {
   "cell_type": "code",
   "execution_count": 21,
   "metadata": {},
   "outputs": [
    {
     "name": "stdout",
     "output_type": "stream",
     "text": [
      "One below:\n",
      " [3 6]\n"
     ]
    }
   ],
   "source": [
    "# Diagonal one below principal diagonal:\n",
    "print('One below:\\n',matrix_1.diagonal(offset=-1))"
   ]
  },
  {
   "cell_type": "code",
   "execution_count": 22,
   "metadata": {},
   "outputs": [
    {
     "name": "stdout",
     "output_type": "stream",
     "text": [
      "Trace:\n",
      " 13\n"
     ]
    }
   ],
   "source": [
    "# Calculate the trace of a matrix: .trace()\n",
    "print('Trace:\\n',matrix_1.trace())"
   ]
  },
  {
   "cell_type": "code",
   "execution_count": 23,
   "metadata": {},
   "outputs": [
    {
     "name": "stdout",
     "output_type": "stream",
     "text": [
      "Eigenvalues:\n",
      " [13.50727705 -0.71450818  0.20723113]\n",
      "Eigenvectors:\n",
      " [[-0.2769271  -0.88967924  0.22901304]\n",
      " [-0.51426329  0.09178213 -0.83678426]\n",
      " [-0.81169246  0.44726602  0.49733804]]\n"
     ]
    }
   ],
   "source": [
    "# Calculate eigenvalues\n",
    "eigenvalues, eigenvectors = np.linalg.eig(matrix_1)\n",
    "print('Eigenvalues:\\n',eigenvalues)\n",
    "print('Eigenvectors:\\n',eigenvectors)"
   ]
  },
  {
   "cell_type": "code",
   "execution_count": 24,
   "metadata": {},
   "outputs": [],
   "source": [
    "# Calculateing Dot Products\n",
    "# Create vector_1:\n",
    "vector_1 = np.array([1,2,3])\n",
    "# Create vector_2:\n",
    "vector_2 = np.array([4,5,6])"
   ]
  },
  {
   "cell_type": "code",
   "execution_count": 25,
   "metadata": {},
   "outputs": [
    {
     "name": "stdout",
     "output_type": "stream",
     "text": [
      "Dot Product:\n",
      " 32\n"
     ]
    }
   ],
   "source": [
    "# Calculate Dot product:\n",
    "print('Dot Product:\\n',np.dot(vector_1,vector_2))"
   ]
  },
  {
   "cell_type": "code",
   "execution_count": 26,
   "metadata": {},
   "outputs": [
    {
     "name": "stdout",
     "output_type": "stream",
     "text": [
      "Dot product:\n",
      " 32\n"
     ]
    }
   ],
   "source": [
    "# Calculate Dot product:\n",
    "print('Dot product:\\n',vector_1 @ vector_2)"
   ]
  },
  {
   "cell_type": "code",
   "execution_count": null,
   "metadata": {},
   "outputs": [],
   "source": [
    "# Adding, subtract and multiply matrix:"
   ]
  },
  {
   "cell_type": "code",
   "execution_count": 27,
   "metadata": {},
   "outputs": [],
   "source": [
    "# Matrix_2:\n",
    "matrix_2 = np.array([[1,2,3],[4,5,6],[7,8,9]])"
   ]
  },
  {
   "cell_type": "code",
   "execution_count": 28,
   "metadata": {},
   "outputs": [],
   "source": [
    "# Matrix_3:\n",
    "matrix_3 = np.array([[7,8,9],[4,5,6],[1,2,3]])"
   ]
  },
  {
   "cell_type": "code",
   "execution_count": 29,
   "metadata": {},
   "outputs": [
    {
     "name": "stdout",
     "output_type": "stream",
     "text": [
      "Sum:\n",
      " [[ 8 10 12]\n",
      " [ 8 10 12]\n",
      " [ 8 10 12]]\n"
     ]
    }
   ],
   "source": [
    "# Add 2 matrix:\n",
    "print('Sum:\\n', np.add(matrix_2,matrix_3))"
   ]
  },
  {
   "cell_type": "code",
   "execution_count": 30,
   "metadata": {},
   "outputs": [
    {
     "name": "stdout",
     "output_type": "stream",
     "text": [
      "Subtract:\n",
      " [[-6 -6 -6]\n",
      " [ 0  0  0]\n",
      " [ 6  6  6]]\n"
     ]
    }
   ],
   "source": [
    "# Subtract 2 matrix:\n",
    "print('Subtract:\\n',np.subtract(matrix_2,matrix_3))"
   ]
  },
  {
   "cell_type": "code",
   "execution_count": 31,
   "metadata": {},
   "outputs": [
    {
     "name": "stdout",
     "output_type": "stream",
     "text": [
      "Multuplication:\n",
      " [[ 7 16 27]\n",
      " [16 25 36]\n",
      " [ 7 16 27]]\n"
     ]
    }
   ],
   "source": [
    "# Multiply:\n",
    "print('Multuplication:\\n', matrix_2*matrix_3)"
   ]
  },
  {
   "cell_type": "code",
   "execution_count": 32,
   "metadata": {},
   "outputs": [
    {
     "name": "stdout",
     "output_type": "stream",
     "text": [
      "Inverse matrix:\n",
      " [[ 3.15251974e+15 -6.30503948e+15  3.15251974e+15]\n",
      " [-6.30503948e+15  1.26100790e+16 -6.30503948e+15]\n",
      " [ 3.15251974e+15 -6.30503948e+15  3.15251974e+15]]\n"
     ]
    }
   ],
   "source": [
    "# Inverting a matrix:\n",
    "print('Inverse matrix:\\n', np.linalg.inv(matrix_2))"
   ]
  },
  {
   "cell_type": "code",
   "execution_count": null,
   "metadata": {},
   "outputs": [],
   "source": []
  }
 ],
 "metadata": {
  "kernelspec": {
   "display_name": "Python 3 (ipykernel)",
   "language": "python",
   "name": "python3"
  },
  "language_info": {
   "codemirror_mode": {
    "name": "ipython",
    "version": 3
   },
   "file_extension": ".py",
   "mimetype": "text/x-python",
   "name": "python",
   "nbconvert_exporter": "python",
   "pygments_lexer": "ipython3",
   "version": "3.9.7"
  }
 },
 "nbformat": 4,
 "nbformat_minor": 4
}
